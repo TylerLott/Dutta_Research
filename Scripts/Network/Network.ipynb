{
 "cells": [
  {
   "cell_type": "code",
   "execution_count": 41,
   "metadata": {
    "collapsed": true,
    "pycharm": {
     "is_executing": false
    }
   },
   "outputs": [],
   "source": [
    "# IMPORTS\n",
    "import tensorflow as tf\n",
    "import numpy as np\n",
    "from tensorflow.python.keras.models import Input, Model\n",
    "from tensorflow.python.keras.layers import Conv2D, MaxPool2D, concatenate, Dense, Conv3D, MaxPool3D\n",
    "from tensorflow.python.keras.preprocessing.image import ImageDataGenerator, array_to_img, img_to_array, load_img "
   ]
  },
  {
   "cell_type": "code",
   "execution_count": 4,
   "outputs": [],
   "source": [
    "# CONSTANTS\n",
    "BSE_SHAPE = (500, 500, 1)\n",
    "EBSD_SHAPE = (200, 200, 3)\n",
    "OM_SHAPE = (1000, 1000, 1)\n"
   ],
   "metadata": {
    "collapsed": false,
    "pycharm": {
     "name": "#%%\n",
     "is_executing": false
    }
   }
  },
  {
   "cell_type": "code",
   "execution_count": 5,
   "outputs": [],
   "source": [
    "# VARIABLES\n",
    "CONV_NODES = [64, 128, 256, 512]\n",
    "DENSE_NODES = [32, 64, 128]\n",
    "\n",
    "NUM_CONV = [0, 1]\n",
    "NUM_DENSE = [0, 1, 2]\n"
   ],
   "metadata": {
    "collapsed": false,
    "pycharm": {
     "name": "#%%\n",
     "is_executing": false
    }
   }
  },
  {
   "cell_type": "code",
   "execution_count": 6,
   "outputs": [],
   "source": [
    "# TRAIN DATA IMPORT\n",
    "BSE = 'path'\n",
    "EBSD = 'path'\n",
    "OM = 'path'\n"
   ],
   "metadata": {
    "collapsed": false,
    "pycharm": {
     "name": "#%%\n",
     "is_executing": false
    }
   }
  },
  {
   "cell_type": "code",
   "execution_count": 9,
   "outputs": [],
   "source": [
    "# #### testing network ####\n",
    "test_path = 'test_data/'\n",
    "\n",
    "# load test img\n",
    "i = load_img('test_data/0/bse.png')\n",
    "x = img_to_array(i)\n"
   ],
   "metadata": {
    "collapsed": false,
    "pycharm": {
     "name": "#%%\n",
     "is_executing": false
    }
   }
  },
  {
   "cell_type": "code",
   "execution_count": 52,
   "outputs": [],
   "source": [
    "# #### Build Model ####\n",
    "# INPUTS\n",
    "input_1 = Input(shape=(500,500,1))\n",
    "input_2 = Input(shape=(500,500,1))\n",
    "input_3 = Input(shape=(500,500,1))\n",
    "\n",
    "# MODEL\n",
    "\n",
    "# FIRST BRANCH\n",
    "# BSE\n",
    "# needs to accept a black and white image\n",
    "one = Conv2D(64, (3, 3), activation=\"relu\")(input_1)\n",
    "one = MaxPool2D(pool_size=(2, 2))(one)\n",
    "\n",
    "one = Conv2D(64, 3, activation='relu')(one)\n",
    "one = MaxPool2D(pool_size=(2, 2), strides=2, padding='valid')(one)\n",
    "\n",
    "one = Model(inputs=input_1, outputs=one)\n",
    "\n",
    "# SECOND BRANCH\n",
    "# EBSD\n",
    "# needs to accept a RGB image\n",
    "two = Conv2D(64, (3, 3), activation='relu')(input_2)\n",
    "two = MaxPool2D(pool_size=(2, 2))(two)\n",
    "\n",
    "two = Conv2D(64, 3, activation='relu')(two)\n",
    "two = MaxPool2D(pool_size=(2, 2), strides=2, padding='valid')(two)\n",
    "\n",
    "two = Model(inputs=input_2, outputs=two)\n",
    "\n",
    "# THIRD BRANCH\n",
    "# OM\n",
    "# needs to accept a black and white image\n",
    "three = Conv2D(64, (3, 3), activation='relu')(input_3)\n",
    "three = MaxPool2D(pool_size=(2, 2))(three)\n",
    "\n",
    "three = Conv2D(64, 3, activation='relu')(three)\n",
    "three = MaxPool2D(pool_size=(2, 2), strides=2, padding='valid')(three)\n",
    "\n",
    "three = Model(inputs=input_3, outputs=three)\n",
    "\n",
    "# COMBINE THE BRANCHES\n",
    "# concatenates the three branches all together into one\n",
    "combined = concatenate([one.output, two.output])\n",
    "combined = concatenate([combined, three.output])\n",
    "\n",
    "# END BRANCH\n",
    "end = Dense(64, activation='relu')(combined)\n",
    "end = Dense(1, activation='sigmoid')(end)\n",
    "\n",
    "# MODEL\n",
    "model = Model(inputs=[one.input, two.input, three.input], outputs=end)\n",
    "\n",
    "# COMPILE MODEL\n",
    "model.compile(loss='mean_squared_error', optimizer='adam', metrics=['accuracy'])\n",
    "\n"
   ],
   "metadata": {
    "collapsed": false,
    "pycharm": {
     "name": "#%%\n",
     "is_executing": false
    }
   }
  },
  {
   "cell_type": "code",
   "execution_count": 54,
   "outputs": [],
   "source": [
    "# FIT MODEL\n",
    "# callback\n",
    "tensorboard_callback = tf.keras.callbacks.TensorBoard(log_dir='./Graph', histogram_freq=0,\n",
    "                                                      write_graph=True, write_images=True)\n",
    "\n",
    "model.fit(validation_split=0.2, callbacks=[tensorboard_callback])\n"
   ],
   "metadata": {
    "collapsed": false,
    "pycharm": {
     "name": "#%%\n",
     "is_executing": false
    }
   }
  }
 ],
 "metadata": {
  "kernelspec": {
   "display_name": "Python 3",
   "language": "python",
   "name": "python3"
  },
  "language_info": {
   "codemirror_mode": {
    "name": "ipython",
    "version": 2
   },
   "file_extension": ".py",
   "mimetype": "text/x-python",
   "name": "python",
   "nbconvert_exporter": "python",
   "pygments_lexer": "ipython2",
   "version": "2.7.6"
  },
  "pycharm": {
   "stem_cell": {
    "cell_type": "raw",
    "source": [],
    "metadata": {
     "collapsed": false
    }
   }
  }
 },
 "nbformat": 4,
 "nbformat_minor": 0
}