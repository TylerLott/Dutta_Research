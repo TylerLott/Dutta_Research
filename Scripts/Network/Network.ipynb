{
 "cells": [
  {
   "cell_type": "code",
   "execution_count": 13,
   "metadata": {},
   "outputs": [
    {
     "ename": "ImportError",
     "evalue": "cannot import name '_imaging' from 'PIL' (C:\\Users\\labuser\\AppData\\Roaming\\Python\\Python37\\site-packages\\PIL\\__init__.py)",
     "output_type": "error",
     "traceback": [
      "\u001b[1;31m---------------------------------------------------------------------------\u001b[0m",
      "\u001b[1;31mImportError\u001b[0m                               Traceback (most recent call last)",
      "\u001b[1;32m<ipython-input-13-39b7e6990623>\u001b[0m in \u001b[0;36m<module>\u001b[1;34m\u001b[0m\n\u001b[0;32m      3\u001b[0m \u001b[1;32mimport\u001b[0m \u001b[0mnumpy\u001b[0m \u001b[1;32mas\u001b[0m \u001b[0mnp\u001b[0m\u001b[1;33m\u001b[0m\u001b[1;33m\u001b[0m\u001b[0m\n\u001b[0;32m      4\u001b[0m \u001b[1;32mimport\u001b[0m \u001b[0mrandom\u001b[0m\u001b[1;33m\u001b[0m\u001b[1;33m\u001b[0m\u001b[0m\n\u001b[1;32m----> 5\u001b[1;33m \u001b[1;32mfrom\u001b[0m \u001b[0mPIL\u001b[0m \u001b[1;32mimport\u001b[0m \u001b[0mImage\u001b[0m\u001b[1;33m\u001b[0m\u001b[1;33m\u001b[0m\u001b[0m\n\u001b[0m\u001b[0;32m      6\u001b[0m \u001b[1;32mfrom\u001b[0m \u001b[0mtensorflow\u001b[0m\u001b[1;33m.\u001b[0m\u001b[0mpython\u001b[0m\u001b[1;33m.\u001b[0m\u001b[0mkeras\u001b[0m\u001b[1;33m.\u001b[0m\u001b[0mmodels\u001b[0m \u001b[1;32mimport\u001b[0m \u001b[0mInput\u001b[0m\u001b[1;33m,\u001b[0m \u001b[0mModel\u001b[0m\u001b[1;33m\u001b[0m\u001b[1;33m\u001b[0m\u001b[0m\n\u001b[0;32m      7\u001b[0m \u001b[1;32mfrom\u001b[0m \u001b[0mtensorflow\u001b[0m\u001b[1;33m.\u001b[0m\u001b[0mpython\u001b[0m\u001b[1;33m.\u001b[0m\u001b[0mkeras\u001b[0m\u001b[1;33m.\u001b[0m\u001b[0mlayers\u001b[0m \u001b[1;32mimport\u001b[0m \u001b[0mConv2D\u001b[0m\u001b[1;33m,\u001b[0m \u001b[0mMaxPool2D\u001b[0m\u001b[1;33m,\u001b[0m \u001b[0mconcatenate\u001b[0m\u001b[1;33m,\u001b[0m \u001b[0mDense\u001b[0m\u001b[1;33m,\u001b[0m \u001b[0mConv3D\u001b[0m\u001b[1;33m,\u001b[0m \u001b[0mMaxPool3D\u001b[0m\u001b[1;33m\u001b[0m\u001b[1;33m\u001b[0m\u001b[0m\n",
      "\u001b[1;32m~\\AppData\\Roaming\\Python\\Python37\\site-packages\\PIL\\Image.py\u001b[0m in \u001b[0;36m<module>\u001b[1;34m\u001b[0m\n\u001b[0;32m     67\u001b[0m     \u001b[1;31m# Also note that Image.core is not a publicly documented interface,\u001b[0m\u001b[1;33m\u001b[0m\u001b[1;33m\u001b[0m\u001b[1;33m\u001b[0m\u001b[0m\n\u001b[0;32m     68\u001b[0m     \u001b[1;31m# and should be considered private and subject to change.\u001b[0m\u001b[1;33m\u001b[0m\u001b[1;33m\u001b[0m\u001b[1;33m\u001b[0m\u001b[0m\n\u001b[1;32m---> 69\u001b[1;33m     \u001b[1;32mfrom\u001b[0m \u001b[1;33m.\u001b[0m \u001b[1;32mimport\u001b[0m \u001b[0m_imaging\u001b[0m \u001b[1;32mas\u001b[0m \u001b[0mcore\u001b[0m\u001b[1;33m\u001b[0m\u001b[1;33m\u001b[0m\u001b[0m\n\u001b[0m\u001b[0;32m     70\u001b[0m \u001b[1;33m\u001b[0m\u001b[0m\n\u001b[0;32m     71\u001b[0m     \u001b[1;32mif\u001b[0m \u001b[0m__version__\u001b[0m \u001b[1;33m!=\u001b[0m \u001b[0mgetattr\u001b[0m\u001b[1;33m(\u001b[0m\u001b[0mcore\u001b[0m\u001b[1;33m,\u001b[0m \u001b[1;34m\"PILLOW_VERSION\"\u001b[0m\u001b[1;33m,\u001b[0m \u001b[1;32mNone\u001b[0m\u001b[1;33m)\u001b[0m\u001b[1;33m:\u001b[0m\u001b[1;33m\u001b[0m\u001b[1;33m\u001b[0m\u001b[0m\n",
      "\u001b[1;31mImportError\u001b[0m: cannot import name '_imaging' from 'PIL' (C:\\Users\\labuser\\AppData\\Roaming\\Python\\Python37\\site-packages\\PIL\\__init__.py)"
     ]
    }
   ],
   "source": [
    "# IMPORTS\n",
    "import tensorflow as tf\n",
    "import numpy as np\n",
    "import random\n",
    "from PIL import Image\n",
    "from tensorflow.python.keras.models import Input, Model\n",
    "from tensorflow.python.keras.layers import Conv2D, MaxPool2D, concatenate, Dense, Conv3D, MaxPool3D\n",
    "from tensorflow.python.keras.preprocessing.image import ImageDataGenerator, array_to_img, img_to_array, load_img "
   ]
  },
  {
   "cell_type": "code",
   "execution_count": 3,
   "metadata": {},
   "outputs": [],
   "source": [
    "# CONSTANTS\n",
    "BSE_SHAPE = (500, 500, 1)\n",
    "EBSD_SHAPE = (200, 200, 3)\n",
    "OM_SHAPE = (1000, 1000, 1)\n"
   ]
  },
  {
   "cell_type": "code",
   "execution_count": 4,
   "metadata": {},
   "outputs": [],
   "source": [
    "# VARIABLES\n",
    "CONV_NODES = [64, 128, 256, 512]\n",
    "DENSE_NODES = [32, 64, 128]\n",
    "\n",
    "NUM_CONV = [0, 1]\n",
    "NUM_DENSE = [0, 1, 2]\n"
   ]
  },
  {
   "cell_type": "code",
   "execution_count": 5,
   "metadata": {},
   "outputs": [],
   "source": [
    "# TRAIN DATA IMPORT\n",
    "BSE = 'path'\n",
    "EBSD = 'path'\n",
    "OM = 'path'\n"
   ]
  },
  {
   "cell_type": "code",
   "execution_count": 6,
   "metadata": {},
   "outputs": [],
   "source": [
    "# # #### testing network ####\n",
    "# test_path = 'test_data/'\n",
    "# \n",
    "# # load test img\n",
    "# i = load_img('test_data/0/bse.png')\n",
    "# x = img_to_array(i)\n"
   ]
  },
  {
   "cell_type": "code",
   "execution_count": 7,
   "metadata": {},
   "outputs": [],
   "source": [
    "# #### Build Model ####\n",
    "# INPUTS\n",
    "input_1 = Input(shape=(100,100,1))\n",
    "input_2 = Input(shape=(100,100,3))\n",
    "input_3 = Input(shape=(100,100,1))\n",
    "\n",
    "# MODEL\n",
    "\n",
    "# FIRST BRANCH\n",
    "# BSE\n",
    "# needs to accept a black and white image\n",
    "one = Conv2D(64, (3, 3), activation=\"relu\")(input_1)\n",
    "one = MaxPool2D(pool_size=(2, 2))(one)\n",
    "\n",
    "one = Conv2D(64, 3, activation='relu')(one)\n",
    "one = MaxPool2D(pool_size=(2, 2), strides=2, padding='valid')(one)\n",
    "\n",
    "one = Model(inputs=input_1, outputs=one)\n",
    "\n",
    "# SECOND BRANCH\n",
    "# EBSD\n",
    "# needs to accept a RGB image\n",
    "two = Conv2D(64, (3, 3), activation='relu')(input_2)\n",
    "two = MaxPool2D(pool_size=(2, 2))(two)\n",
    "\n",
    "two = Conv2D(64, 3, activation='relu')(two)\n",
    "two = MaxPool2D(pool_size=(2, 2), strides=2, padding='valid')(two)\n",
    "\n",
    "two = Model(inputs=input_2, outputs=two)\n",
    "\n",
    "# THIRD BRANCH\n",
    "# OM\n",
    "# needs to accept a black and white image\n",
    "three = Conv2D(64, (3, 3), activation='relu')(input_3)\n",
    "three = MaxPool2D(pool_size=(2, 2))(three)\n",
    "\n",
    "three = Conv2D(64, 3, activation='relu')(three)\n",
    "three = MaxPool2D(pool_size=(2, 2), strides=2, padding='valid')(three)\n",
    "\n",
    "three = Model(inputs=input_3, outputs=three)\n",
    "\n",
    "# COMBINE THE BRANCHES\n",
    "# concatenates the three branches all together into one\n",
    "combined = concatenate([one.output, two.output])\n",
    "combined = concatenate([combined, three.output])\n",
    "\n",
    "# END BRANCH\n",
    "end = Dense(64, activation='relu')(combined)\n",
    "end = Dense(1, activation='sigmoid')(end)\n",
    "\n",
    "# MODEL\n",
    "model = Model(inputs=[one.input, two.input, three.input], outputs=end)\n",
    "\n",
    "# COMPILE MODEL\n",
    "model.compile(loss='mean_squared_error', optimizer='adam', metrics=['accuracy'])\n",
    "\n"
   ]
  },
  {
   "cell_type": "code",
   "execution_count": 14,
   "metadata": {},
   "outputs": [
    {
     "ename": "ImportError",
     "evalue": "Could not import PIL.Image. The use of `load_img` requires PIL.",
     "output_type": "error",
     "traceback": [
      "\u001b[1;31m---------------------------------------------------------------------------\u001b[0m",
      "\u001b[1;31mImportError\u001b[0m                               Traceback (most recent call last)",
      "\u001b[1;32m<ipython-input-14-d7a88c3c3161>\u001b[0m in \u001b[0;36m<module>\u001b[1;34m\u001b[0m\n\u001b[0;32m      5\u001b[0m \u001b[1;32mfor\u001b[0m \u001b[0mi\u001b[0m \u001b[1;32min\u001b[0m \u001b[0mrange\u001b[0m\u001b[1;33m(\u001b[0m\u001b[1;36m10\u001b[0m\u001b[1;33m)\u001b[0m\u001b[1;33m:\u001b[0m\u001b[1;33m\u001b[0m\u001b[1;33m\u001b[0m\u001b[0m\n\u001b[0;32m      6\u001b[0m     \u001b[0mpath\u001b[0m \u001b[1;33m=\u001b[0m \u001b[1;34m'test_data/SR/train/'\u001b[0m \u001b[1;33m+\u001b[0m \u001b[0mstr\u001b[0m\u001b[1;33m(\u001b[0m\u001b[0mi\u001b[0m\u001b[1;33m)\u001b[0m \u001b[1;33m+\u001b[0m \u001b[1;34m'/'\u001b[0m\u001b[1;33m\u001b[0m\u001b[1;33m\u001b[0m\u001b[0m\n\u001b[1;32m----> 7\u001b[1;33m     \u001b[0mbse\u001b[0m \u001b[1;33m=\u001b[0m \u001b[0mnp\u001b[0m\u001b[1;33m.\u001b[0m\u001b[0marray\u001b[0m\u001b[1;33m(\u001b[0m\u001b[0mload_img\u001b[0m\u001b[1;33m(\u001b[0m\u001b[0mpath\u001b[0m \u001b[1;33m+\u001b[0m \u001b[1;34m'bse.png'\u001b[0m\u001b[1;33m)\u001b[0m\u001b[1;33m)\u001b[0m\u001b[1;33m\u001b[0m\u001b[1;33m\u001b[0m\u001b[0m\n\u001b[0m\u001b[0;32m      8\u001b[0m     \u001b[0mbse\u001b[0m \u001b[1;33m=\u001b[0m \u001b[0mbse\u001b[0m\u001b[1;33m.\u001b[0m\u001b[0mresize\u001b[0m\u001b[1;33m(\u001b[0m\u001b[1;33m(\u001b[0m\u001b[1;36m100\u001b[0m\u001b[1;33m,\u001b[0m \u001b[1;36m100\u001b[0m\u001b[1;33m,\u001b[0m \u001b[1;36m1\u001b[0m\u001b[1;33m)\u001b[0m\u001b[1;33m,\u001b[0m \u001b[0mresample\u001b[0m\u001b[1;33m=\u001b[0m\u001b[1;34m'PIL.Image.BILINEAR'\u001b[0m\u001b[1;33m)\u001b[0m\u001b[1;33m\u001b[0m\u001b[1;33m\u001b[0m\u001b[0m\n\u001b[0;32m      9\u001b[0m     \u001b[0mbse\u001b[0m \u001b[1;33m=\u001b[0m \u001b[0mtf\u001b[0m\u001b[1;33m.\u001b[0m\u001b[0mkeras\u001b[0m\u001b[1;33m.\u001b[0m\u001b[0mutils\u001b[0m\u001b[1;33m.\u001b[0m\u001b[0mnormalize\u001b[0m\u001b[1;33m(\u001b[0m\u001b[0mbse\u001b[0m\u001b[1;33m,\u001b[0m \u001b[0maxis\u001b[0m\u001b[1;33m=\u001b[0m\u001b[1;36m1\u001b[0m\u001b[1;33m)\u001b[0m\u001b[1;33m\u001b[0m\u001b[1;33m\u001b[0m\u001b[0m\n",
      "\u001b[1;32mC:\\Program Files (x86)\\Microsoft Visual Studio\\Shared\\Python37_64\\lib\\site-packages\\keras_preprocessing\\image\\utils.py\u001b[0m in \u001b[0;36mload_img\u001b[1;34m(path, grayscale, color_mode, target_size, interpolation)\u001b[0m\n\u001b[0;32m    106\u001b[0m         \u001b[0mcolor_mode\u001b[0m \u001b[1;33m=\u001b[0m \u001b[1;34m'grayscale'\u001b[0m\u001b[1;33m\u001b[0m\u001b[1;33m\u001b[0m\u001b[0m\n\u001b[0;32m    107\u001b[0m     \u001b[1;32mif\u001b[0m \u001b[0mpil_image\u001b[0m \u001b[1;32mis\u001b[0m \u001b[1;32mNone\u001b[0m\u001b[1;33m:\u001b[0m\u001b[1;33m\u001b[0m\u001b[1;33m\u001b[0m\u001b[0m\n\u001b[1;32m--> 108\u001b[1;33m         raise ImportError('Could not import PIL.Image. '\n\u001b[0m\u001b[0;32m    109\u001b[0m                           'The use of `load_img` requires PIL.')\n\u001b[0;32m    110\u001b[0m     \u001b[0mimg\u001b[0m \u001b[1;33m=\u001b[0m \u001b[0mpil_image\u001b[0m\u001b[1;33m.\u001b[0m\u001b[0mopen\u001b[0m\u001b[1;33m(\u001b[0m\u001b[0mpath\u001b[0m\u001b[1;33m)\u001b[0m\u001b[1;33m\u001b[0m\u001b[1;33m\u001b[0m\u001b[0m\n",
      "\u001b[1;31mImportError\u001b[0m: Could not import PIL.Image. The use of `load_img` requires PIL."
     ]
    }
   ],
   "source": [
    "# IMPORT DATA\n",
    "\n",
    "# load in data as an array of arrays which contain [bse, ebsd, om, stress]\n",
    "train_data = []\n",
    "for i in range(10):\n",
    "    path = 'test_data/SR/train/' + str(i) + '/'\n",
    "    bse = np.array(load_img(path + 'bse.png'))\n",
    "    bse = bse.resize((100, 100, 1))\n",
    "    bse = tf.keras.utils.normalize(bse, axis=1)\n",
    "    \n",
    "    ebsd = np.array(load_img(path + 'ebsd.png'))\n",
    "    ebsd = ebsd.resize((100, 100, 3))\n",
    "    ebsd = tf.keras.utils.normalize(ebsd, axis=1)\n",
    "    \n",
    "    om = np.array(load_img(path + 'om.png'))\n",
    "    om = om.resize((100, 100, 1))\n",
    "    om = tf.keras.utils.normalize(om, axis=1)\n",
    "    \n",
    "    train_data.append([bse, ebsd, om, 1060])\n",
    "    \n",
    "for i in range(10):\n",
    "    path = 'test_data/HT/train/' + str(i) + '/'\n",
    "    bse = np.array(load_img(path + 'bse.png'))\n",
    "    bse = bse.resize((100, 100, 1))\n",
    "    bse = tf.keras.utils.normalize(bse, axis=1)\n",
    "    \n",
    "    ebsd = np.array(load_img(path + 'ebsd.png'))\n",
    "    ebsd = ebsd.resize((100, 100, 3))\n",
    "    ebsd = tf.keras.utils.normalize(ebsd, axis=1)\n",
    "    \n",
    "    om = np.array(load_img(path + 'om.png'))\n",
    "    om = om.resize((100, 100, 1))\n",
    "    om = tf.keras.utils.normalize(om, axis=1)\n",
    "    \n",
    "    train_data.append([bse, ebsd, om, 918])\n",
    "\n",
    "# shuffle the data array\n",
    "\n",
    "random.shuffle(train_data)\n",
    "\n",
    "# load data into input data\n",
    "bse_train = []\n",
    "ebsd_train = []\n",
    "om_train = []\n",
    "stress_train = []\n",
    "\n",
    "for i in range(len(train_data)):\n",
    "    bse_train.append(train_data[i][0])\n",
    "    ebsd_train.append(train_data[i][1])\n",
    "    om_train.append(train_data[i][2])\n",
    "    stress_train.append(train_data[i][3])\n",
    "\n",
    "\n",
    "# reshape the arrays of each thing\n",
    "bse_train.reshape(20, 100, 100, 1)\n",
    "ebsd_train.reshape(20, 100, 100, 3)\n",
    "om_train.reshape(20, 100, 100, 1)\n",
    "stress_train.reshape(20, 1)"
   ]
  },
  {
   "cell_type": "code",
   "execution_count": 0,
   "metadata": {},
   "outputs": [],
   "source": [
    "# FIT MODEL\n",
    "# callback\n",
    "tensorboard_callback = tf.keras.callbacks.TensorBoard(log_dir='./Graph', histogram_freq=0,\n",
    "                                                      write_graph=True, write_images=True)\n",
    "\n",
    "model.fit([bse_train, ebsd_train, om_train],\n",
    "          [stress_train], \n",
    "          epochs = 1,\n",
    "          validation_split=0.2, \n",
    "          callbacks=[tensorboard_callback])\n"
   ]
  }
 ],
 "metadata": {
  "kernelspec": {
   "display_name": "Python 3",
   "language": "python",
   "name": "python3"
  },
  "language_info": {
   "codemirror_mode": {
    "name": "ipython",
    "version": 2
   },
   "file_extension": ".py",
   "mimetype": "text/x-python",
   "name": "python",
   "nbconvert_exporter": "python",
   "pygments_lexer": "ipython2",
   "version": "3.7.3-final"
  },
  "pycharm": {
   "stem_cell": {
    "cell_type": "raw",
    "source": [],
    "metadata": {
     "collapsed": false
    }
   }
  }
 },
 "nbformat": 4,
 "nbformat_minor": 0
}