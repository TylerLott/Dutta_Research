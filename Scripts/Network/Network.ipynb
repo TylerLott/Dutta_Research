{
 "cells": [
  {
   "cell_type": "code",
   "execution_count": 1,
   "metadata": {
    "pycharm": {
     "is_executing": false
    }
   },
   "outputs": [],
   "source": [
    "# IMPORTS\n",
    "import tensorflow as tf\n",
    "import numpy as np\n",
    "import random\n",
    "from PIL import Image\n",
    "from tensorflow.python.keras.models import Input, Model\n",
    "from tensorflow.python.keras.layers import Conv2D, MaxPool2D, concatenate, Dense, Conv3D, MaxPool3D, Flatten\n",
    "from tensorflow.python.keras.preprocessing.image import ImageDataGenerator, array_to_img, img_to_array, load_img "
   ]
  },
  {
   "cell_type": "code",
   "execution_count": 2,
   "metadata": {
    "pycharm": {
     "is_executing": false
    }
   },
   "outputs": [],
   "source": [
    "# CONSTANTS\n",
    "BSE_SHAPE = (500, 500, 1)\n",
    "EBSD_SHAPE = (200, 200, 3)\n",
    "OM_SHAPE = (1000, 1000, 1)\n"
   ]
  },
  {
   "cell_type": "code",
   "execution_count": 3,
   "metadata": {
    "pycharm": {
     "is_executing": false
    }
   },
   "outputs": [],
   "source": [
    "# VARIABLES\n",
    "CONV_NODES = [64, 128, 256, 512]\n",
    "DENSE_NODES = [32, 64, 128]\n",
    "\n",
    "NUM_CONV = [0, 1]\n",
    "NUM_DENSE = [0, 1, 2]\n"
   ]
  },
  {
   "cell_type": "code",
   "execution_count": 4,
   "metadata": {
    "pycharm": {
     "is_executing": false
    }
   },
   "outputs": [],
   "source": [
    "# TRAIN DATA IMPORT\n",
    "BSE = 'path'\n",
    "EBSD = 'path'\n",
    "OM = 'path'\n"
   ]
  },
  {
   "cell_type": "code",
   "execution_count": 5,
   "metadata": {
    "pycharm": {
     "is_executing": false
    }
   },
   "outputs": [],
   "source": [
    "# # #### testing network ####\n",
    "# test_path = 'test_data/'\n",
    "# \n",
    "# # load test img\n",
    "# i = load_img('test_data/0/bse.png')\n",
    "# x = img_to_array(i)\n"
   ]
  },
  {
   "cell_type": "code",
   "execution_count": 6,
   "metadata": {
    "pycharm": {
     "is_executing": false
    }
   },
   "outputs": [],
   "source": [
    "# #### Build Model ####\n",
    "# INPUTS\n",
    "input_1 = Input(shape=(100,100,3))\n",
    "input_2 = Input(shape=(100,100,3))\n",
    "input_3 = Input(shape=(100,100,3))\n",
    "\n",
    "# MODEL\n",
    "\n",
    "# FIRST BRANCH\n",
    "# BSE\n",
    "# needs to accept a black and white image\n",
    "one = Conv2D(64, (3, 3), activation=\"relu\")(input_1)\n",
    "one = MaxPool2D(pool_size=(2, 2))(one)\n",
    "\n",
    "one = Conv2D(64, 3, activation='relu')(one)\n",
    "one = MaxPool2D(pool_size=(2, 2), strides=2, padding='valid')(one)\n",
    "\n",
    "one = Flatten()(one)\n",
    "\n",
    "one = Model(inputs=input_1, outputs=one)\n",
    "\n",
    "# SECOND BRANCH\n",
    "# EBSD\n",
    "# needs to accept a RGB image\n",
    "two = Conv2D(64, (3, 3), activation='relu')(input_2)\n",
    "two = MaxPool2D(pool_size=(2, 2))(two)\n",
    "\n",
    "two = Conv2D(64, 3, activation='relu')(two)\n",
    "two = MaxPool2D(pool_size=(2, 2), strides=2, padding='valid')(two)\n",
    "\n",
    "two = Flatten()(two)\n",
    "\n",
    "two = Model(inputs=input_2, outputs=two)\n",
    "\n",
    "# THIRD BRANCH\n",
    "# OM\n",
    "# needs to accept a black and white image\n",
    "three = Conv2D(64, (3, 3), activation='relu')(input_3)\n",
    "three = MaxPool2D(pool_size=(2, 2))(three)\n",
    "\n",
    "three = Conv2D(64, 3, activation='relu')(three)\n",
    "three = MaxPool2D(pool_size=(2, 2), strides=2, padding='valid')(three)\n",
    "\n",
    "three = Flatten()(three)\n",
    "\n",
    "three = Model(inputs=input_3, outputs=three)\n",
    "\n",
    "# COMBINE THE BRANCHES\n",
    "# concatenates the three branches all together into one\n",
    "combined = concatenate([one.output, two.output])\n",
    "combined = concatenate([combined, three.output])\n",
    "\n",
    "# END BRANCH\n",
    "end = Dense(64, activation='relu')(combined)\n",
    "end = Dense(1, activation='sigmoid')(end)\n",
    "\n",
    "# MODEL\n",
    "model = Model(inputs=[one.input, two.input, three.input], outputs=end)\n",
    "\n",
    "# COMPILE MODEL\n",
    "model.compile(loss='poisson', optimizer='adam', metrics=['cosine_proximity'])\n",
    "\n"
   ]
  },
  {
   "cell_type": "code",
   "execution_count": 7,
   "metadata": {
    "pycharm": {
     "is_executing": false
    }
   },
   "outputs": [],
   "source": [
    "# IMPORT DATA\n",
    "\n",
    "BATCH_SIZE = 200\n",
    "\n",
    "# load in data as an array of arrays which contain [bse, ebsd, om, stress]\n",
    "train_data = []\n",
    "for i in range(int(BATCH_SIZE / 2)):\n",
    "    path = 'test_data/SR/train/' + str(i) + '/'\n",
    "    bse = load_img(path + 'bse.png')\n",
    "    bse = np.array(bse.resize((100, 100))).ravel()\n",
    "    # bse = tf.keras.utils.normalize(bse, axis=1)\n",
    "    \n",
    "    ebsd = load_img(path + 'ebsd.png')\n",
    "    ebsd = np.array(ebsd.resize((100, 100))).ravel()\n",
    "    # ebsd = tf.keras.utils.normalize(ebsd, axis=1)\n",
    "    \n",
    "    om = load_img(path + 'om.png')\n",
    "    om = np.array(om.resize((100, 100))).ravel()\n",
    "    # om = tf.keras.utils.normalize(om, axis=1)\n",
    "    \n",
    "    train_data.append([bse, ebsd, om, 1060])\n",
    "    \n",
    "for i in range(int(BATCH_SIZE / 2)):\n",
    "    path = 'test_data/HT/train/' + str(i) + '/'\n",
    "    bse = load_img(path + 'bse.png')\n",
    "    bse = np.array(bse.resize((100, 100))).ravel()\n",
    "    # bse = tf.keras.utils.normalize(bse, axis=1)\n",
    "    \n",
    "    ebsd = load_img(path + 'ebsd.png')\n",
    "    ebsd = np.array(ebsd.resize((100, 100))).ravel()\n",
    "    # ebsd = tf.keras.utils.normalize(ebsd, axis=1)\n",
    "    \n",
    "    om = load_img(path + 'om.png')\n",
    "    om = np.array(om.resize((100, 100))).ravel()\n",
    "    # om = tf.keras.utils.normalize(om, axis=1)\n",
    "    \n",
    "    train_data.append([bse, ebsd, om, 918])\n",
    "\n",
    "# shuffle the data array\n",
    "train_data = np.array(train_data)\n",
    "random.shuffle(train_data)\n",
    "\n",
    "# load data into input data\n",
    "bse_train = []\n",
    "ebsd_train = []\n",
    "om_train = []\n",
    "stress_train = []\n",
    "\n",
    "for i in range(len(train_data)):\n",
    "    bse_train.append(train_data[i][0])\n",
    "    ebsd_train.append(train_data[i][1])\n",
    "    om_train.append(train_data[i][2])\n",
    "    stress_train.append(train_data[i][3])\n",
    "\n",
    "\n",
    "# reshape the arrays of each thing\n",
    "bse_train = np.array(bse_train)\n",
    "bse_train = bse_train.reshape(BATCH_SIZE, 100, 100, 3)\n",
    "\n",
    "ebsd_train = np.array(ebsd_train)\n",
    "ebsd_train = ebsd_train.reshape(BATCH_SIZE, 100, 100, 3)\n",
    "\n",
    "om_train = np.array(om_train)\n",
    "om_train = om_train.reshape(BATCH_SIZE, 100, 100, 3)\n",
    "\n",
    "stress_train = np.array(stress_train)\n",
    "stress_train = stress_train.reshape(BATCH_SIZE, 1)"
   ]
  },
  {
   "cell_type": "code",
   "execution_count": 9,
   "metadata": {
    "pycharm": {
     "is_executing": false
    }
   },
   "outputs": [
    {
     "name": "stdout",
     "text": [
      "Train on 160 samples, validate on 40 samples\n",
      "Epoch 1/10\n\r 32/160 [=====>........................] - ETA: 0s - loss: 0.9999 - cosine_proximity: 1.0000",
      "\b\b\b\b\b\b\b\b\b\b\b\b\b\b\b\b\b\b\b\b\b\b\b\b\b\b\b\b\b\b\b\b\b\b\b\b\b\b\b\b\b\b\b\b\b\b\b\b\b\b\b\b\b\b\b\b\b\b\b\b\b\b\b\b\b\b\b\b\b\b\b\b\b\b\b\b\b\b\b\b\b\b\b\b\b\b\b\b\b\b\b\b\r 64/160 [===========>..................] - ETA: 0s - loss: 0.9999 - cosine_proximity: 1.0000",
      "\b\b\b\b\b\b\b\b\b\b\b\b\b\b\b\b\b\b\b\b\b\b\b\b\b\b\b\b\b\b\b\b\b\b\b\b\b\b\b\b\b\b\b\b\b\b\b\b\b\b\b\b\b\b\b\b\b\b\b\b\b\b\b\b\b\b\b\b\b\b\b\b\b\b\b\b\b\b\b\b\b\b\b\b\b\b\b\b\b\b\b\b\r128/160 [=======================>......] - ETA: 0s - loss: 0.9999 - cosine_proximity: 1.0000",
      "\b\b\b\b\b\b\b\b\b\b\b\b\b\b\b\b\b\b\b\b\b\b\b\b\b\b\b\b\b\b\b\b\b\b\b\b\b\b\b\b\b\b\b\b\b\b\b\b\b\b\b\b\b\b\b\b\b\b\b\b\b\b\b\b\b\b\b\b\b\b\b\b\b\b\b\b\b\b\b\b\b\b\b\b\b\b\b\b\b\b\b\b\r160/160 [==============================] - 0s 3ms/sample - loss: 0.9999 - cosine_proximity: 1.0000 - val_loss: 0.9999 - val_cosine_proximity: 1.0000\n",
      "Epoch 2/10\n\r 32/160 [=====>........................] - ETA: 0s - loss: 0.9999 - cosine_proximity: 1.0000",
      "\b\b\b\b\b\b\b\b\b\b\b\b\b\b\b\b\b\b\b\b\b\b\b\b\b\b\b\b\b\b\b\b\b\b\b\b\b\b\b\b\b\b\b\b\b\b\b\b\b\b\b\b\b\b\b\b\b\b\b\b\b\b\b\b\b\b\b\b\b\b\b\b\b\b\b\b\b\b\b\b\b\b\b\b\b\b\b\b\b\b\b\b\r 96/160 [=================>............] - ETA: 0s - loss: 0.9999 - cosine_proximity: 1.0000",
      "\b\b\b\b\b\b\b\b\b\b\b\b\b\b\b\b\b\b\b\b\b\b\b\b\b\b\b\b\b\b\b\b\b\b\b\b\b\b\b\b\b\b\b\b\b\b\b\b\b\b\b\b\b\b\b\b\b\b\b\b\b\b\b\b\b\b\b\b\b\b\b\b\b\b\b\b\b\b\b\b\b\b\b\b\b\b\b\b\b\b\b\b\r160/160 [==============================] - 0s 1ms/sample - loss: 0.9999 - cosine_proximity: 1.0000 - val_loss: 0.9999 - val_cosine_proximity: 1.0000\n",
      "Epoch 3/10\n\r 32/160 [=====>........................] - ETA: 0s - loss: 0.9999 - cosine_proximity: 1.0000",
      "\b\b\b\b\b\b\b\b\b\b\b\b\b\b\b\b\b\b\b\b\b\b\b\b\b\b\b\b\b\b\b\b\b\b\b\b\b\b\b\b\b\b\b\b\b\b\b\b\b\b\b\b\b\b\b\b\b\b\b\b\b\b\b\b\b\b\b\b\b\b\b\b\b\b\b\b\b\b\b\b\b\b\b\b\b\b\b\b\b\b\b\b\r 96/160 [=================>............] - ETA: 0s - loss: 0.9999 - cosine_proximity: 1.0000",
      "\b\b\b\b\b\b\b\b\b\b\b\b\b\b\b\b\b\b\b\b\b\b\b\b\b\b\b\b\b\b\b\b\b\b\b\b\b\b\b\b\b\b\b\b\b\b\b\b\b\b\b\b\b\b\b\b\b\b\b\b\b\b\b\b\b\b\b\b\b\b\b\b\b\b\b\b\b\b\b\b\b\b\b\b\b\b\b\b\b\b\b\b\r160/160 [==============================] - 0s 1ms/sample - loss: 0.9999 - cosine_proximity: 1.0000 - val_loss: 0.9999 - val_cosine_proximity: 1.0000\n",
      "Epoch 4/10\n",
      "\r 32/160 [=====>........................] - ETA: 0s - loss: 0.9999 - cosine_proximity: 1.0000",
      "\b\b\b\b\b\b\b\b\b\b\b\b\b\b\b\b\b\b\b\b\b\b\b\b\b\b\b\b\b\b\b\b\b\b\b\b\b\b\b\b\b\b\b\b\b\b\b\b\b\b\b\b\b\b\b\b\b\b\b\b\b\b\b\b\b\b\b\b\b\b\b\b\b\b\b\b\b\b\b\b\b\b\b\b\b\b\b\b\b\b\b\b\r 96/160 [=================>............] - ETA: 0s - loss: 0.9999 - cosine_proximity: 1.0000",
      "\b\b\b\b\b\b\b\b\b\b\b\b\b\b\b\b\b\b\b\b\b\b\b\b\b\b\b\b\b\b\b\b\b\b\b\b\b\b\b\b\b\b\b\b\b\b\b\b\b\b\b\b\b\b\b\b\b\b\b\b\b\b\b\b\b\b\b\b\b\b\b\b\b\b\b\b\b\b\b\b\b\b\b\b\b\b\b\b\b\b\b\b",
      "\r160/160 [==============================] - 0s 1ms/sample - loss: 0.9999 - cosine_proximity: 1.0000 - val_loss: 0.9999 - val_cosine_proximity: 1.0000\n",
      "Epoch 5/10\n",
      "\r 32/160 [=====>........................] - ETA: 0s - loss: 0.9999 - cosine_proximity: 1.0000",
      "\b\b\b\b\b\b\b\b\b\b\b\b\b\b\b\b\b\b\b\b\b\b\b\b\b\b\b\b\b\b\b\b\b\b\b\b\b\b\b\b\b\b\b\b\b\b\b\b\b\b\b\b\b\b\b\b\b\b\b\b\b\b\b\b\b\b\b\b\b\b\b\b\b\b\b\b\b\b\b\b\b\b\b\b\b\b\b\b\b\b\b\b\r 96/160 [=================>............] - ETA: 0s - loss: 0.9999 - cosine_proximity: 1.0000",
      "\b\b\b\b\b\b\b\b\b\b\b\b\b\b\b\b\b\b\b\b\b\b\b\b\b\b\b\b\b\b\b\b\b\b\b\b\b\b\b\b\b\b\b\b\b\b\b\b\b\b\b\b\b\b\b\b\b\b\b\b\b\b\b\b\b\b\b\b\b\b\b\b\b\b\b\b\b\b\b\b\b\b\b\b\b\b\b\b\b\b\b\b\r160/160 [==============================] - 0s 1ms/sample - loss: 0.9999 - cosine_proximity: 1.0000 - val_loss: 0.9999 - val_cosine_proximity: 1.0000\n",
      "Epoch 6/10\n\r 32/160 [=====>........................] - ETA: 0s - loss: 0.9999 - cosine_proximity: 1.0000",
      "\b\b\b\b\b\b\b\b\b\b\b\b\b\b\b\b\b\b\b\b\b\b\b\b\b\b\b\b\b\b\b\b\b\b\b\b\b\b\b\b\b\b\b\b\b\b\b\b\b\b\b\b\b\b\b\b\b\b\b\b\b\b\b\b\b\b\b\b\b\b\b\b\b\b\b\b\b\b\b\b\b\b\b\b\b\b\b\b\b\b\b\b\r 96/160 [=================>............] - ETA: 0s - loss: 0.9999 - cosine_proximity: 1.0000",
      "\b\b\b\b\b\b\b\b\b\b\b\b\b\b\b\b\b\b\b\b\b\b\b\b\b\b\b\b\b\b\b\b\b\b\b\b\b\b\b\b\b\b\b\b\b\b\b\b\b\b\b\b\b\b\b\b\b\b\b\b\b\b\b\b\b\b\b\b\b\b\b\b\b\b\b\b\b\b\b\b\b\b\b\b\b\b\b\b\b\b\b\b\r160/160 [==============================] - 0s 1ms/sample - loss: 0.9999 - cosine_proximity: 1.0000 - val_loss: 0.9999 - val_cosine_proximity: 1.0000\n",
      "Epoch 7/10\n\r 32/160 [=====>........................] - ETA: 0s - loss: 0.9999 - cosine_proximity: 1.0000",
      "\b\b\b\b\b\b\b\b\b\b\b\b\b\b\b\b\b\b\b\b\b\b\b\b\b\b\b\b\b\b\b\b\b\b\b\b\b\b\b\b\b\b\b\b\b\b\b\b\b\b\b\b\b\b\b\b\b\b\b\b\b\b\b\b\b\b\b\b\b\b\b\b\b\b\b\b\b\b\b\b\b\b\b\b\b\b\b\b\b\b\b\b\r 96/160 [=================>............] - ETA: 0s - loss: 0.9999 - cosine_proximity: 1.0000",
      "\b\b\b\b\b\b\b\b\b\b\b\b\b\b\b\b\b\b\b\b\b\b\b\b\b\b\b\b\b\b\b\b\b\b\b\b\b\b\b\b\b\b\b\b\b\b\b\b\b\b\b\b\b\b\b\b\b\b\b\b\b\b\b\b\b\b\b\b\b\b\b\b\b\b\b\b\b\b\b\b\b\b\b\b\b\b\b\b\b\b\b\b\r160/160 [==============================] - 0s 1ms/sample - loss: 0.9999 - cosine_proximity: 1.0000 - val_loss: 0.9999 - val_cosine_proximity: 1.0000\n",
      "Epoch 8/10\n\r 32/160 [=====>........................] - ETA: 0s - loss: 0.9999 - cosine_proximity: 1.0000",
      "\b\b\b\b\b\b\b\b\b\b\b\b\b\b\b\b\b\b\b\b\b\b\b\b\b\b\b\b\b\b\b\b\b\b\b\b\b\b\b\b\b\b\b\b\b\b\b\b\b\b\b\b\b\b\b\b\b\b\b\b\b\b\b\b\b\b\b\b\b\b\b\b\b\b\b\b\b\b\b\b\b\b\b\b\b\b\b\b\b\b\b\b\r 96/160 [=================>............] - ETA: 0s - loss: 0.9999 - cosine_proximity: 1.0000",
      "\b\b\b\b\b\b\b\b\b\b\b\b\b\b\b\b\b\b\b\b\b\b\b\b\b\b\b\b\b\b\b\b\b\b\b\b\b\b\b\b\b\b\b\b\b\b\b\b\b\b\b\b\b\b\b\b\b\b\b\b\b\b\b\b\b\b\b\b\b\b\b\b\b\b\b\b\b\b\b\b\b\b\b\b\b\b\b\b\b\b\b\b\r160/160 [==============================] - 0s 1ms/sample - loss: 0.9999 - cosine_proximity: 1.0000 - val_loss: 0.9999 - val_cosine_proximity: 1.0000\n",
      "Epoch 9/10\n\r 32/160 [=====>........................] - ETA: 0s - loss: 0.9999 - cosine_proximity: 1.0000",
      "\b\b\b\b\b\b\b\b\b\b\b\b\b\b\b\b\b\b\b\b\b\b\b\b\b\b\b\b\b\b\b\b\b\b\b\b\b\b\b\b\b\b\b\b\b\b\b\b\b\b\b\b\b\b\b\b\b\b\b\b\b\b\b\b\b\b\b\b\b\b\b\b\b\b\b\b\b\b\b\b\b\b\b\b\b\b\b\b\b\b\b\b\r 96/160 [=================>............] - ETA: 0s - loss: 0.9999 - cosine_proximity: 1.0000",
      "\b\b\b\b\b\b\b\b\b\b\b\b\b\b\b\b\b\b\b\b\b\b\b\b\b\b\b\b\b\b\b\b\b\b\b\b\b\b\b\b\b\b\b\b\b\b\b\b\b\b\b\b\b\b\b\b\b\b\b\b\b\b\b\b\b\b\b\b\b\b\b\b\b\b\b\b\b\b\b\b\b\b\b\b\b\b\b\b\b\b\b\b\r160/160 [==============================] - 0s 1ms/sample - loss: 0.9999 - cosine_proximity: 1.0000 - val_loss: 0.9999 - val_cosine_proximity: 1.0000\n",
      "Epoch 10/10\n\r 32/160 [=====>........................] - ETA: 0s - loss: 0.9999 - cosine_proximity: 1.0000",
      "\b\b\b\b\b\b\b\b\b\b\b\b\b\b\b\b\b\b\b\b\b\b\b\b\b\b\b\b\b\b\b\b\b\b\b\b\b\b\b\b\b\b\b\b\b\b\b\b\b\b\b\b\b\b\b\b\b\b\b\b\b\b\b\b\b\b\b\b\b\b\b\b\b\b\b\b\b\b\b\b\b\b\b\b\b\b\b\b\b\b\b\b\r 96/160 [=================>............] - ETA: 0s - loss: 0.9999 - cosine_proximity: 1.0000",
      "\b\b\b\b\b\b\b\b\b\b\b\b\b\b\b\b\b\b\b\b\b\b\b\b\b\b\b\b\b\b\b\b\b\b\b\b\b\b\b\b\b\b\b\b\b\b\b\b\b\b\b\b\b\b\b\b\b\b\b\b\b\b\b\b\b\b\b\b\b\b\b\b\b\b\b\b\b\b\b\b\b\b\b\b\b\b\b\b\b\b\b\b\r160/160 [==============================] - 0s 1ms/sample - loss: 0.9999 - cosine_proximity: 1.0000 - val_loss: 0.9999 - val_cosine_proximity: 1.0000\n"
     ],
     "output_type": "stream"
    },
    {
     "data": {
      "text/plain": "<tensorflow.python.keras.callbacks.History at 0x23b71f8c408>"
     },
     "metadata": {},
     "output_type": "execute_result",
     "execution_count": 9
    }
   ],
   "source": [
    "# FIT MODEL\n",
    "# callback\n",
    "tensorboard_callback = tf.keras.callbacks.TensorBoard(log_dir='.\\Graph', histogram_freq=0,\n",
    "                                                      write_graph=True, write_images=True)\n",
    "\n",
    "model.fit([bse_train, ebsd_train, om_train],\n",
    "          [stress_train], \n",
    "          epochs = 10,\n",
    "          validation_split=0.2, \n",
    "          callbacks=[tensorboard_callback])\n"
   ]
  }
 ],
 "metadata": {
  "kernelspec": {
   "display_name": "Python 3",
   "language": "python",
   "name": "python3"
  },
  "language_info": {
   "codemirror_mode": {
    "name": "ipython",
    "version": 2
   },
   "file_extension": ".py",
   "mimetype": "text/x-python",
   "name": "python",
   "nbconvert_exporter": "python",
   "pygments_lexer": "ipython2",
   "version": "3.7.3-final"
  },
  "pycharm": {
   "stem_cell": {
    "cell_type": "raw",
    "source": [],
    "metadata": {
     "collapsed": false
    }
   }
  }
 },
 "nbformat": 4,
 "nbformat_minor": 0
}