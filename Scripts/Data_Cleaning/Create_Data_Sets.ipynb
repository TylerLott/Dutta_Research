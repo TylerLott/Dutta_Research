{
 "cells": [
  {
   "cell_type": "code",
   "execution_count": 2,
   "metadata": {
    "collapsed": true,
    "pycharm": {
     "is_executing": false
    }
   },
   "outputs": [],
   "source": [
    "import pandas as pd\n",
    "import numpy as np\n",
    "import os\n",
    "import shutil\n",
    "import random"
   ]
  },
  {
   "cell_type": "code",
   "execution_count": 3,
   "outputs": [],
   "source": [
    "# Import stress strain data\n",
    "STRESS_STRAIN_PATH_HT = '../../../Data/Split_Data/HT/Stress_Strain/Stress_Strain_Std_Dev.csv'\n",
    "STRESS_STRAIN_PATH_SR = '../../../Data/Split_Data/SR/Stress_Strain/Stress_Strain_Std_Dev.csv'\n",
    "\n",
    "ht_ss = pd.read_csv(STRESS_STRAIN_PATH_HT)\n",
    "sr_ss = pd.read_csv(STRESS_STRAIN_PATH_SR)"
   ],
   "metadata": {
    "collapsed": false,
    "pycharm": {
     "name": "#%%\n",
     "is_executing": false
    }
   }
  },
  {
   "cell_type": "code",
   "execution_count": 4,
   "outputs": [],
   "source": [
    "# Image Paths\n",
    "SR_BSE = '../../../Data/Split_Data/SR/BSE/'\n",
    "SR_EBSD = '../../../Data/Split_Data/SR/EBSD/'\n",
    "SR_OM = '../../../Data/Split_Data/SR/OM/'\n",
    "\n",
    "HT_BSE = '../../../Data/Split_Data/HT/BSE/'\n",
    "HT_EBSD = '../../../Data/Split_Data/HT/EBSD/'\n",
    "HT_OM = '../../../Data/Split_Data/HT/OM/'\n",
    "\n",
    "BSE_PATH_END = ['Medium', 'Small']\n",
    "EBSD_PATH_END = ['Large', 'Medium']\n",
    "OM_PATH_END = ['Medium']"
   ],
   "metadata": {
    "collapsed": false,
    "pycharm": {
     "name": "#%%\n",
     "is_executing": false
    }
   }
  },
  {
   "cell_type": "code",
   "execution_count": 5,
   "outputs": [
    {
     "name": "stdout",
     "text": [
      "mkdir \"../../../Data/Dataset/bse_Medium_ebsd_Large_om_Medium\"\nmkdir \"../../../Data/Dataset/bse_Medium_ebsd_Large_om_Small\"\nmkdir \"../../../Data/Dataset/bse_Medium_ebsd_Medium_om_Medium\"\nmkdir \"../../../Data/Dataset/bse_Medium_ebsd_Medium_om_Small\"\nmkdir \"../../../Data/Dataset/bse_Small_ebsd_Large_om_Medium\"\nmkdir \"../../../Data/Dataset/bse_Small_ebsd_Large_om_Small\"\nmkdir \"../../../Data/Dataset/bse_Small_ebsd_Medium_om_Medium\"\nmkdir \"../../../Data/Dataset/bse_Small_ebsd_Medium_om_Small\"\n"
     ],
     "output_type": "stream"
    }
   ],
   "source": [
    "# Create the folders for the datasets\n",
    "for bse_paths in BSE_PATH_END:\n",
    "    for ebsd_paths in EBSD_PATH_END:\n",
    "        for om_paths in OM_PATH_END:\n",
    "\n",
    "            # make dataset directory\n",
    "            cmd = 'mkdir \"../../../Data/Dataset/' + 'bse_' + bse_paths + '_ebsd_' + ebsd_paths + '_om_' + om_paths + '\"'\n",
    "            print(cmd)\n",
    "            os.popen(cmd)"
   ],
   "metadata": {
    "collapsed": false,
    "pycharm": {
     "name": "#%%\n",
     "is_executing": false
    }
   }
  },
  {
   "cell_type": "code",
   "execution_count": 8,
   "outputs": [],
   "source": [
    "# Build the data sets SR\n",
    "# I'm going to build the datasets using \n",
    "## BSE: medium and small  -- 25 , 121\n",
    "## EBSD: large and medium -- 25 , 100\n",
    "## OM: medium and small -- 15 , 70\n",
    "### This will give me approximately 6 different datasets to test\n",
    "for bse_paths in BSE_PATH_END:\n",
    "    for ebsd_paths in EBSD_PATH_END:\n",
    "        for om_paths in OM_PATH_END:\n",
    "            bse_files = os.listdir(SR_BSE + bse_paths)\n",
    "            ebsd_files = os.listdir(SR_EBSD + ebsd_paths)\n",
    "            om_files = os.listdir(SR_OM + om_paths)\n",
    "            \n",
    "            temp_path = '../../../Data/Dataset/' + 'bse_' + bse_paths + '_ebsd_' + ebsd_paths + '_om_' + om_paths\n",
    "\n",
    "            sample_num = 0\n",
    "            for bse_file in bse_files:\n",
    "                for ebsd_file in ebsd_files:\n",
    "                    for om_file in om_files:\n",
    "                        \n",
    "                        # Creates the folders for all of the data\n",
    "                        # runs in separate loop since it is slower than copying the data in\n",
    "                        temp_sample_path = temp_path + '/' + str(sample_num)\n",
    "                        os.popen('mkdir \"' + temp_sample_path + '\"')\n",
    "\n",
    "                        sample_num += 1\n",
    "                        "
   ],
   "metadata": {
    "collapsed": false,
    "pycharm": {
     "name": "#%%\n",
     "is_executing": false
    }
   }
  },
  {
   "cell_type": "code",
   "execution_count": 9,
   "outputs": [
    {
     "traceback": [
      "\u001b[1;31m---------------------------------------------------------------------------\u001b[0m",
      "\u001b[1;31mFileNotFoundError\u001b[0m                         Traceback (most recent call last)",
      "\u001b[1;32m<ipython-input-9-85d557da8846>\u001b[0m in \u001b[0;36m<module>\u001b[1;34m\u001b[0m\n\u001b[0;32m     22\u001b[0m                         \u001b[0mshutil\u001b[0m\u001b[1;33m.\u001b[0m\u001b[0mcopy\u001b[0m\u001b[1;33m(\u001b[0m\u001b[0mSR_EBSD\u001b[0m \u001b[1;33m+\u001b[0m \u001b[0mebsd_paths\u001b[0m \u001b[1;33m+\u001b[0m \u001b[1;34m'/'\u001b[0m \u001b[1;33m+\u001b[0m \u001b[0mebsd_file\u001b[0m\u001b[1;33m,\u001b[0m \u001b[0mtemp_sample_path\u001b[0m \u001b[1;33m+\u001b[0m \u001b[1;34m'/ebsd.png'\u001b[0m\u001b[1;33m)\u001b[0m\u001b[1;33m\u001b[0m\u001b[1;33m\u001b[0m\u001b[0m\n\u001b[0;32m     23\u001b[0m \u001b[1;33m\u001b[0m\u001b[0m\n\u001b[1;32m---> 24\u001b[1;33m                         \u001b[0mshutil\u001b[0m\u001b[1;33m.\u001b[0m\u001b[0mcopy\u001b[0m\u001b[1;33m(\u001b[0m\u001b[0mSR_OM\u001b[0m \u001b[1;33m+\u001b[0m \u001b[0mom_paths\u001b[0m \u001b[1;33m+\u001b[0m \u001b[1;34m'/'\u001b[0m \u001b[1;33m+\u001b[0m \u001b[0mom_file\u001b[0m\u001b[1;33m,\u001b[0m \u001b[0mtemp_sample_path\u001b[0m \u001b[1;33m+\u001b[0m \u001b[1;34m'/om.png'\u001b[0m\u001b[1;33m)\u001b[0m\u001b[1;33m\u001b[0m\u001b[1;33m\u001b[0m\u001b[0m\n\u001b[0m\u001b[0;32m     25\u001b[0m \u001b[1;33m\u001b[0m\u001b[0m\n\u001b[0;32m     26\u001b[0m                         \u001b[0msample_num\u001b[0m \u001b[1;33m+=\u001b[0m \u001b[1;36m1\u001b[0m\u001b[1;33m\u001b[0m\u001b[1;33m\u001b[0m\u001b[0m\n",
      "\u001b[1;32m~\\Anaconda3\\envs\\Dutta_Research\\lib\\shutil.py\u001b[0m in \u001b[0;36mcopy\u001b[1;34m(src, dst, follow_symlinks)\u001b[0m\n\u001b[0;32m    246\u001b[0m     \u001b[1;32mif\u001b[0m \u001b[0mos\u001b[0m\u001b[1;33m.\u001b[0m\u001b[0mpath\u001b[0m\u001b[1;33m.\u001b[0m\u001b[0misdir\u001b[0m\u001b[1;33m(\u001b[0m\u001b[0mdst\u001b[0m\u001b[1;33m)\u001b[0m\u001b[1;33m:\u001b[0m\u001b[1;33m\u001b[0m\u001b[1;33m\u001b[0m\u001b[0m\n\u001b[0;32m    247\u001b[0m         \u001b[0mdst\u001b[0m \u001b[1;33m=\u001b[0m \u001b[0mos\u001b[0m\u001b[1;33m.\u001b[0m\u001b[0mpath\u001b[0m\u001b[1;33m.\u001b[0m\u001b[0mjoin\u001b[0m\u001b[1;33m(\u001b[0m\u001b[0mdst\u001b[0m\u001b[1;33m,\u001b[0m \u001b[0mos\u001b[0m\u001b[1;33m.\u001b[0m\u001b[0mpath\u001b[0m\u001b[1;33m.\u001b[0m\u001b[0mbasename\u001b[0m\u001b[1;33m(\u001b[0m\u001b[0msrc\u001b[0m\u001b[1;33m)\u001b[0m\u001b[1;33m)\u001b[0m\u001b[1;33m\u001b[0m\u001b[1;33m\u001b[0m\u001b[0m\n\u001b[1;32m--> 248\u001b[1;33m     \u001b[0mcopyfile\u001b[0m\u001b[1;33m(\u001b[0m\u001b[0msrc\u001b[0m\u001b[1;33m,\u001b[0m \u001b[0mdst\u001b[0m\u001b[1;33m,\u001b[0m \u001b[0mfollow_symlinks\u001b[0m\u001b[1;33m=\u001b[0m\u001b[0mfollow_symlinks\u001b[0m\u001b[1;33m)\u001b[0m\u001b[1;33m\u001b[0m\u001b[1;33m\u001b[0m\u001b[0m\n\u001b[0m\u001b[0;32m    249\u001b[0m     \u001b[0mcopymode\u001b[0m\u001b[1;33m(\u001b[0m\u001b[0msrc\u001b[0m\u001b[1;33m,\u001b[0m \u001b[0mdst\u001b[0m\u001b[1;33m,\u001b[0m \u001b[0mfollow_symlinks\u001b[0m\u001b[1;33m=\u001b[0m\u001b[0mfollow_symlinks\u001b[0m\u001b[1;33m)\u001b[0m\u001b[1;33m\u001b[0m\u001b[1;33m\u001b[0m\u001b[0m\n\u001b[0;32m    250\u001b[0m     \u001b[1;32mreturn\u001b[0m \u001b[0mdst\u001b[0m\u001b[1;33m\u001b[0m\u001b[1;33m\u001b[0m\u001b[0m\n",
      "\u001b[1;32m~\\Anaconda3\\envs\\Dutta_Research\\lib\\shutil.py\u001b[0m in \u001b[0;36mcopyfile\u001b[1;34m(src, dst, follow_symlinks)\u001b[0m\n\u001b[0;32m    118\u001b[0m         \u001b[0mos\u001b[0m\u001b[1;33m.\u001b[0m\u001b[0msymlink\u001b[0m\u001b[1;33m(\u001b[0m\u001b[0mos\u001b[0m\u001b[1;33m.\u001b[0m\u001b[0mreadlink\u001b[0m\u001b[1;33m(\u001b[0m\u001b[0msrc\u001b[0m\u001b[1;33m)\u001b[0m\u001b[1;33m,\u001b[0m \u001b[0mdst\u001b[0m\u001b[1;33m)\u001b[0m\u001b[1;33m\u001b[0m\u001b[1;33m\u001b[0m\u001b[0m\n\u001b[0;32m    119\u001b[0m     \u001b[1;32melse\u001b[0m\u001b[1;33m:\u001b[0m\u001b[1;33m\u001b[0m\u001b[1;33m\u001b[0m\u001b[0m\n\u001b[1;32m--> 120\u001b[1;33m         \u001b[1;32mwith\u001b[0m \u001b[0mopen\u001b[0m\u001b[1;33m(\u001b[0m\u001b[0msrc\u001b[0m\u001b[1;33m,\u001b[0m \u001b[1;34m'rb'\u001b[0m\u001b[1;33m)\u001b[0m \u001b[1;32mas\u001b[0m \u001b[0mfsrc\u001b[0m\u001b[1;33m:\u001b[0m\u001b[1;33m\u001b[0m\u001b[1;33m\u001b[0m\u001b[0m\n\u001b[0m\u001b[0;32m    121\u001b[0m             \u001b[1;32mwith\u001b[0m \u001b[0mopen\u001b[0m\u001b[1;33m(\u001b[0m\u001b[0mdst\u001b[0m\u001b[1;33m,\u001b[0m \u001b[1;34m'wb'\u001b[0m\u001b[1;33m)\u001b[0m \u001b[1;32mas\u001b[0m \u001b[0mfdst\u001b[0m\u001b[1;33m:\u001b[0m\u001b[1;33m\u001b[0m\u001b[1;33m\u001b[0m\u001b[0m\n\u001b[0;32m    122\u001b[0m                 \u001b[0mcopyfileobj\u001b[0m\u001b[1;33m(\u001b[0m\u001b[0mfsrc\u001b[0m\u001b[1;33m,\u001b[0m \u001b[0mfdst\u001b[0m\u001b[1;33m)\u001b[0m\u001b[1;33m\u001b[0m\u001b[1;33m\u001b[0m\u001b[0m\n",
      "\u001b[1;31mFileNotFoundError\u001b[0m: [Errno 2] No such file or directory: '../../../Data/Split_Data/SR/OM/Small/64.png'"
     ],
     "ename": "FileNotFoundError",
     "evalue": "[Errno 2] No such file or directory: '../../../Data/Split_Data/SR/OM/Small/64.png'",
     "output_type": "error"
    }
   ],
   "source": [
    "# Organizes the split data into sample folders to build datasets\n",
    "\n",
    "for bse_paths in BSE_PATH_END:\n",
    "    for ebsd_paths in EBSD_PATH_END:\n",
    "        for om_paths in OM_PATH_END:\n",
    "            bse_files = os.listdir(SR_BSE + bse_paths)\n",
    "            ebsd_files = os.listdir(SR_EBSD + ebsd_paths)\n",
    "            om_files = os.listdir(SR_OM + om_paths)\n",
    "            \n",
    "            temp_path = '../../../Data/Dataset/' + 'bse_' + bse_paths + '_ebsd_' + ebsd_paths + '_om_' + om_paths\n",
    "            \n",
    "            # print(temp_path)\n",
    "            # \n",
    "            # os.popen('mkdir \"' + temp_path + '/1' + '\"')\n",
    "\n",
    "            sample_num = 0\n",
    "            for bse_file in bse_files:\n",
    "                for ebsd_file in ebsd_files:\n",
    "                    for om_file in om_files:\n",
    "                        temp_sample_path = temp_path + '/' + str(sample_num)\n",
    "\n",
    "                        shutil.copy(SR_BSE + bse_paths + '/' + bse_file, temp_sample_path + '/bse.png')\n",
    "\n",
    "                        shutil.copy(SR_EBSD + ebsd_paths + '/' + ebsd_file, temp_sample_path + '/ebsd.png')\n",
    "                        \n",
    "                        shutil.copy(SR_OM + om_paths + '/' + om_file, temp_sample_path + '/om.png')\n",
    "\n",
    "                        sample_num += 1"
   ],
   "metadata": {
    "collapsed": false,
    "pycharm": {
     "name": "#%%\n",
     "is_executing": false
    }
   }
  },
  {
   "cell_type": "code",
   "execution_count": 6,
   "outputs": [],
   "source": [
    "# count files in folder\n",
    "print(os.listdir(SR_BSE + BSE_PATH_END[0]))"
   ],
   "metadata": {
    "collapsed": false,
    "pycharm": {
     "name": "#%%\n",
     "is_executing": false
    }
   }
  },
  {
   "cell_type": "code",
   "execution_count": 13,
   "outputs": [
    {
     "name": "stdout",
     "text": [
      "done\ndone1\n"
     ],
     "output_type": "stream"
    }
   ],
   "source": [
    "\n",
    "\n",
    "os.popen('mkdir \"test\"')\n",
    "print('done')\n",
    "shutil.copy2(\"../../../Data/Split_Data/SR/BSE/Medium/1.png\", \"../../../Data/Dataset/test.png\")\n",
    "print('done1')"
   ],
   "metadata": {
    "collapsed": false,
    "pycharm": {
     "name": "#%%\n",
     "is_executing": false
    }
   }
  }
 ],
 "metadata": {
  "kernelspec": {
   "display_name": "Python 3",
   "language": "python",
   "name": "python3"
  },
  "language_info": {
   "codemirror_mode": {
    "name": "ipython",
    "version": 2
   },
   "file_extension": ".py",
   "mimetype": "text/x-python",
   "name": "python",
   "nbconvert_exporter": "python",
   "pygments_lexer": "ipython2",
   "version": "2.7.6"
  },
  "pycharm": {
   "stem_cell": {
    "cell_type": "raw",
    "source": [],
    "metadata": {
     "collapsed": false
    }
   }
  }
 },
 "nbformat": 4,
 "nbformat_minor": 0
}